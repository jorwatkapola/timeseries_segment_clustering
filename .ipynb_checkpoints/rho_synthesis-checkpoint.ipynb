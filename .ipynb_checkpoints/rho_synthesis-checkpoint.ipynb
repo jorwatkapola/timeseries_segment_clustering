{
 "cells": [
  {
   "cell_type": "code",
   "execution_count": 13,
   "metadata": {},
   "outputs": [],
   "source": [
    "import importlib\n",
    "import os\n",
    "import fnmatch\n",
    "import numpy as np\n",
    "from sklearn.model_selection import train_test_split\n",
    "from collections import Counter\n",
    "import csv\n",
    "from sklearn import tree\n",
    "import sys\n",
    "sys.stdout.flush()\n",
    "import math\n",
    "import matplotlib.pyplot as plt\n",
    "from matplotlib.table import Table\n",
    "import importlib\n",
    "import pandas as pd\n",
    "from sklearn.cluster import MeanShift"
   ]
  },
  {
   "cell_type": "markdown",
   "metadata": {},
   "source": [
    "Load the GRS1915 data to find out some statistics of the peaks in the heartbeat class"
   ]
  },
  {
   "cell_type": "code",
   "execution_count": 14,
   "metadata": {},
   "outputs": [],
   "source": [
    "#load the Huppenkothen classification file\n",
    "clean_belloni = open('1915Belloniclass_updated.dat')\n",
    "lines = clean_belloni.readlines()\n",
    "states = lines[0].split()\n",
    "belloni_clean = {}\n",
    "for h,l in zip(states, lines[1:]):\n",
    "    belloni_clean[h] = l.split()\n",
    "    #state: obsID1, obsID2...\n",
    "ob_state = {}\n",
    "for state, obs in belloni_clean.items():\n",
    "    if state == \"chi1\" or state == \"chi2\" or state == \"chi3\" or state == \"chi4\": state = \"chi\"\n",
    "    for ob in obs:\n",
    "        ob_state[ob] = state\n",
    "        #ob_state[ob.replace(\"-\",\"\")] = state"
   ]
  },
  {
   "cell_type": "code",
   "execution_count": 15,
   "metadata": {},
   "outputs": [],
   "source": [
    "cwd = os.getcwd()\n",
    "if cwd.split(\"/\")[1] == \"home\":\n",
    "    data_path=\"/home/jkok1g14/Documents/GRS1915+105/data/Std1_PCU2\"\n",
    "elif cwd.split(\"/\")[1] == \"export\":\n",
    "    data_path=\"/export/data/jakubok/GRS1915+105/Std1_PCU2\"\n",
    "else:\n",
    "    print(\"Set the path of data directory!\", Flush=True)\n",
    "\n",
    "#creates a list of labeled observations with available data\n",
    "available = []\n",
    "pool=[]\n",
    "#/home/jkok1g14/Documents/GRS1915+105/data\n",
    "#/export/data/jakubok/GRS1915+105/Std1_PCU2\n",
    "for root, dirnames, filenames in os.walk(data_path):\n",
    "    for filename in fnmatch.filter(filenames, \"*_std1_lc.txt\"):\n",
    "        available.append(filename)\n",
    "for ob, state in ob_state.items():\n",
    "    if ob+\"_std1_lc.txt\" in available:\n",
    "        pool.append(ob)  \n",
    "\n",
    "#create a list of arrays with time and counts for the set of Belloni classified observations\n",
    "lc_dirs=[]\n",
    "lcs=[]\n",
    "ids=[]\n",
    "for root, dirnames, filenames in os.walk(data_path):    \n",
    "    for filename in fnmatch.filter(filenames, \"*_std1_lc.txt\"):\n",
    "        if filename.split(\"_\")[0] in pool:\n",
    "            lc_dirs.append(os.path.join(root, filename))\n",
    "\n",
    "            \n",
    "#make 2D arrays for light curves, with columns of counts and time values\n",
    "for lc in lc_dirs:\n",
    "    ids.append(lc.split(\"/\")[-1].split(\"_\")[0])\n",
    "    f=np.loadtxt(lc)\n",
    "    f=np.transpose(f)#,axis=1)\n",
    "    f=f[0:2]\n",
    "    ###1s average and time check to eliminate points outside of GTIs\n",
    "    f8t = np.mean(f[0][:(len(f[0])//8)*8].reshape(-1, 8), axis=1)\n",
    "    f8c = np.mean(f[1][:(len(f[1])//8)*8].reshape(-1, 8), axis=1)\n",
    "\n",
    "    rm_points = []\n",
    "    skip=False\n",
    "    for i in range(len(f8t)-1):\n",
    "        if skip==True:\n",
    "            skip=False\n",
    "            continue\n",
    "        delta = f8t[i+1]-f8t[i]\n",
    "        if delta > 1.0:\n",
    "            rm_points.append(i+1)\n",
    "            skip=True   \n",
    "    times=np.delete(f8t,rm_points)\n",
    "    counts=np.delete(f8c,rm_points)\n",
    "    lcs.append(np.stack((times,counts)))"
   ]
  },
  {
   "cell_type": "markdown",
   "metadata": {},
   "source": [
    "List the values of peaks from the real heartbeat"
   ]
  },
  {
   "cell_type": "code",
   "execution_count": 16,
   "metadata": {},
   "outputs": [],
   "source": [
    "#parameters for the meanshift clustering; it will find the centers of the peaks\n",
    "bandwidth=20\n",
    "interval_treshold=170\n",
    "\n",
    "interval_list=[]#intervals between centers of peaks, where peak is any count rate > mean+1sigma\n",
    "thickness_list=[]#number of data points within each peak\n",
    "max_peak_rate_list=[]#maximal count rate within each peak\n",
    "std_peak_rate_list=[]#standard deviation of count rate within each peak\n",
    "mean_peak_difference_list=[]#difference between mean count rates of each peak and the light curve mean\n",
    "mean_rates_list=[]#mean count rates for the entire lighcurve\n",
    "std_rates_list=[]#standard deviation of count rates for the entire lighcurve\n",
    "\n",
    "for ob_index, ob_id in enumerate(ids):\n",
    "    ob_class=ob_state[ob_id]\n",
    "    if ob_class == \"rho\":\n",
    "        xs=lcs[ob_index][0]\n",
    "        ys=lcs[ob_index][1]\n",
    "        \n",
    "        # list light curve means and deviations\n",
    "        mean_rate=np.mean(ys)\n",
    "        std_rate=np.std(ys)\n",
    "        mean_rates_list.append(mean_rate)\n",
    "        std_rates_list.append(std_rate)\n",
    "        \n",
    "        #### find the intervals between peaks\n",
    "        peaks_indices=np.where(ys>mean_rate+std_rate)[0]\n",
    "        peaks_time=xs[peaks_indices]\n",
    "        clusters = MeanShift(bandwidth=bandwidth).fit(peaks_time.reshape(-1, 1))\n",
    "        centers=np.sort(clusters.cluster_centers_.T[0])\n",
    "#         intervals=centers[1:]-centers[:-1]\n",
    "#         centers=np.sort(clusters.cluster_centers_.T[0])\n",
    "        intervals=centers[1:]-centers[:-1]\n",
    "        GTI=np.where(intervals<interval_treshold)[0]\n",
    "        interval_list.append(intervals[GTI])\n",
    "        \n",
    "        ### find the width of the peaks\n",
    "        thickness_list.append(np.unique(clusters.labels_,return_counts=True)[1])\n",
    "        \n",
    "        ### find the magnitude of the peaks\n",
    "        peaks_mags=ys[peaks_indices]\n",
    "        for cluster_ind in set(clusters.labels_):\n",
    "            cluster_mags=peaks_mags[np.where(clusters.labels_==cluster_ind)[0]]\n",
    "            max_peak_rate_list.append(np.max(cluster_mags))\n",
    "            std_peak_rate_list.append(np.std(cluster_mags))\n",
    "            mean_peak_difference_list.append(np.mean(cluster_mags)-mean_rate)"
   ]
  },
  {
   "cell_type": "markdown",
   "metadata": {},
   "source": [
    "find a distribution of interval values which follows the real distribution well enough"
   ]
  },
  {
   "cell_type": "code",
   "execution_count": 17,
   "metadata": {},
   "outputs": [
    {
     "data": {
      "image/png": "[encoded data removed]",
      "text/plain": [
       "<Figure size 432x288 with 1 Axes>"
      ]
     },
     "metadata": {
      "needs_background": "light"
     },
     "output_type": "display_data"
    }
   ],
   "source": [
    "\n",
    "\n",
    "# from sklearn.mixture import GaussianMixture\n",
    "plt.hist(np.repeat(np.hstack(interval_list),10), bins=50, range=(32.5,157.5))\n",
    "# GM=GaussianMixture(n_components=2, covariance_type='full').fit(np.hstack(interval_list).reshape(-1, 1))\n",
    "# GM_generate=np.hstack(GM.sample(len(np.hstack(interval_list)))[0])\n",
    "gamma1=np.random.gamma(4.5, 3, 7000)+32.5\n",
    "gamma2=np.random.gamma(5, 8.5, 7000)+32.5\n",
    "normal1=np.random.normal(44, 6, 700)\n",
    "normal2=np.random.normal(67.5, 20, 700)\n",
    "normal=np.random.normal(mean_interval, std_interval, 14000)\n",
    "gamma=np.concatenate((gamma1,gamma2))\n",
    "plt.hist(gamma, bins=50, alpha=0.7, range=(32.5,157.5))\n",
    "plt.show()"
   ]
  },
  {
   "cell_type": "markdown",
   "metadata": {},
   "source": []
  },
  {
   "cell_type": "code",
   "execution_count": 225,
   "metadata": {},
   "outputs": [],
   "source": [
    "gamma1=np.random.gamma(4.5, 3, 7000)+32.5\n",
    "gamma2=np.random.gamma(5, 8.5, 7000)+32.5\n",
    "gamma=np.concatenate((gamma1,gamma2))\n",
    "\n",
    "generate_rhos=1000\n",
    "synthetic_rhos=np.zeros((generate_rhos, 500))\n",
    "gen_x=np.linspace(0,799,num=800)\n",
    "for gen_rho in range(generate_rhos):\n",
    "    gen_y=np.zeros(len(gen_x))\n",
    "    #generate a mean count rate, peak interval, peak width and a countrate difference between peaks and the global mean,\n",
    "    #and the std of count rates within a peak\n",
    "    gen_mean=np.random.normal(np.mean(mean_rates_list), np.std(mean_rates_list))\n",
    "    gen_interval=np.random.choice(gamma)\n",
    "    peak_thickness=np.random.normal(np.mean(np.hstack(thickness_list)),np.std(np.hstack(thickness_list)))\n",
    "    mean_difference=np.random.normal(np.mean(np.hstack(mean_peak_difference_list)),np.std(np.hstack(mean_peak_difference_list)))\n",
    "    peak_std=np.random.choice(np.hstack(std_peak_rate_list))\n",
    "\n",
    "    #np.random.choice((np.hstack(std_peak_rate_list)))\n",
    "    #generate a standard deviation for the base line and take the lowest point to be the mean-1sigma\n",
    "    #add the baseline to the zeros array\n",
    "    gen_std=np.random.normal(np.mean(np.hstack(std_rates_list)),np.std(np.hstack(std_rates_list)))\n",
    "    gen_trough=gen_mean-gen_std\n",
    "    gen_y+=gen_mean\n",
    "    \n",
    "    #add peaks\n",
    "    peak_interval=np.random.choice(gamma)\n",
    "    peak_position=0\n",
    "    while peak_position<len(gen_y)-peak_interval-9:\n",
    "        peak_position+=peak_interval+np.random.normal(0,3,1)#move the next peak by the interval value plus some\n",
    "        half_thickness=int(np.ceil((peak_thickness+np.random.normal(0,0.5 ,1)[0])/2))\n",
    "        peak_position=int(peak_position)\n",
    "        start=peak_position-half_thickness#start and end of the peak\n",
    "        end=peak_position+half_thickness\n",
    "        #generate count rate values within the peak from a normal distribution, make it look more peaked with a sine wave\n",
    "        gen_y[start:end]=np.random.normal(gen_mean+mean_difference,peak_std,len(gen_y[peak_position-half_thickness:peak_position+half_thickness])) \n",
    "        peak_pi=np.linspace(0,np.pi, len(gen_y[start:end]))\n",
    "        peak_sin=np.sin(peak_pi)\n",
    "        peak_min=np.min(gen_y[start:end])\n",
    "        gen_y[start:end]=(gen_y[start:end]-peak_min) *peak_sin +peak_min\n",
    "        \n",
    "        #add some slope in between the peaks\n",
    "        gen_y[end:int(end+peak_interval)]-=np.linspace(gen_trough,0, len(gen_y[end:int(end+peak_interval)]))\n",
    "    \n",
    "    #rescale the light curve to the target deviation and mean\n",
    "    gen_y=(gen_y-np.mean(gen_y))*(gen_std/np.std(gen_y))\n",
    "    gen_y+=gen_mean\n",
    "    \n",
    "    gen_err=np.power(np.e,np.log(gen_y)*0.5+1.0397207708265923)\n",
    "    gen_y+=np.random.normal(gen_y, gen_err)\n",
    "    \n",
    "    save=np.random.randint(int(peak_interval),200)\n",
    "    synthetic_rhos[gen_rho,:]=gen_y[save:save+500]\n",
    "    #mean_ori+(pred_centroid-mean_pred)*(std_ori/std_pred)\n",
    "    \n",
    "    ############scale std of the light curve and center the peak more\n",
    "\n",
    "    # interval_list=[]#intervals between centers of peaks, where peak is any count rate > mean+1sigma\n",
    "    # thickness_list=[]#number of data points within each peak\n",
    "    # max_peak_rate_list=[]#maximal count rate within each peak\n",
    "    # std_peak_rate_list=[]#standard deviation of count rate within each peak\n",
    "    # mean_peak_difference_list=[]#difference between count rates of each peak and the light curve mean\n",
    "    # mean_rates_list=[]#mean count rates for the entire lighcurve\n",
    "    # std_rates_list=[]#standard deviation of count rates for the entire lighcurve\n",
    "    "
   ]
  },
  {
   "cell_type": "code",
   "execution_count": 237,
   "metadata": {},
   "outputs": [],
   "source": [
    "gamma1=np.random.gamma(4.5, 3, 7000)+32.5\n",
    "gamma2=np.random.gamma(5, 8.5, 7000)+32.5\n",
    "gamma=np.concatenate((gamma1,gamma2))\n",
    "\n",
    "generate_rhos=1000\n",
    "synthetic_rhos=np.zeros((generate_rhos, 500))\n",
    "gen_x=np.linspace(0,799,num=800)\n",
    "for gen_rho in range(generate_rhos):\n",
    "    gen_y=np.zeros(len(gen_x))\n",
    "    #generate a mean count rate, peak interval, peak width and a countrate difference between peaks and the global mean,\n",
    "    #and the std of count rates within a peak\n",
    "    gen_mean=np.random.normal(np.mean(mean_rates_list), np.std(mean_rates_list))\n",
    "    gen_interval=np.random.choice(gamma)\n",
    "    peak_thickness=np.random.normal(np.mean(np.hstack(thickness_list)),np.std(np.hstack(thickness_list)))\n",
    "    mean_difference=np.random.normal(np.mean(np.hstack(mean_peak_difference_list)),np.std(np.hstack(mean_peak_difference_list)))\n",
    "    #peak_std=np.random.choice(np.hstack(std_peak_rate_list))\n",
    "\n",
    "    #np.random.choice((np.hstack(std_peak_rate_list)))\n",
    "    #generate a standard deviation for the base line and take the lowest point to be the mean-1sigma\n",
    "    #add the baseline to the zeros array\n",
    "    gen_std=np.random.normal(np.mean(np.hstack(std_rates_list)),np.std(np.hstack(std_rates_list)))\n",
    "    gen_trough=gen_mean-gen_std\n",
    "    gen_y+=gen_mean\n",
    "    \n",
    "    #add peaks\n",
    "    peak_interval=np.random.choice(gamma)\n",
    "    peak_position=0\n",
    "    while peak_position<len(gen_y)-peak_interval-9:\n",
    "        peak_position+=peak_interval+np.random.normal(0,3,1)#move the next peak by the interval value plus some\n",
    "        half_thickness=int(np.ceil((peak_thickness+np.random.normal(0,0.5 ,1)[0])/2))\n",
    "        peak_position=int(peak_position)\n",
    "        start=peak_position-half_thickness#start and end of the peak\n",
    "        end=peak_position+half_thickness\n",
    "        #generate count rate values within the peak from a normal distribution, make it look more peaked with a sine wave\n",
    "        gen_y[start:end]=mean_difference\n",
    "        peak_pi=np.linspace(0,np.pi, len(gen_y[start:end]))\n",
    "        peak_sin=np.sin(peak_pi)\n",
    "        gen_y[start:end]*=peak_sin\n",
    "        gen_y[start:end]+=gen_mean\n",
    "        #gen_y[start:end]=(gen_y[start:end]-peak_min) *peak_sin +peak_min\n",
    "        \n",
    "        #add some slope in between the peaks\n",
    "        gen_y[end:int(end+peak_interval)]-=np.linspace(gen_trough,0, len(gen_y[end:int(end+peak_interval)]))\n",
    "    \n",
    "    #rescale the light curve to the target deviation and mean\n",
    "    gen_y=(gen_y-np.mean(gen_y))*(gen_std/np.std(gen_y))\n",
    "    gen_y+=gen_mean\n",
    "    \n",
    "    #add noise; the powerlaw parameters found from the observations of GRS1915+105\n",
    "    gen_err=np.power(np.e,np.log(gen_y)*0.5+1.0397207708265923)\n",
    "    gen_y+=np.random.normal(gen_y, gen_err)\n",
    "    \n",
    "    \n",
    "    save=np.random.randint(int(peak_interval),200)\n",
    "    synthetic_rhos[gen_rho,:]=gen_y[save:save+500]\n",
    "    #mean_ori+(pred_centroid-mean_pred)*(std_ori/std_pred)\n",
    "    \n",
    "    ############scale std of the light curve and center the peak more\n",
    "\n",
    "    # interval_list=[]#intervals between centers of peaks, where peak is any count rate > mean+1sigma\n",
    "    # thickness_list=[]#number of data points within each peak\n",
    "    # max_peak_rate_list=[]#maximal count rate within each peak\n",
    "    # std_peak_rate_list=[]#standard deviation of count rate within each peak\n",
    "    # mean_peak_difference_list=[]#difference between count rates of each peak and the light curve mean\n",
    "    # mean_rates_list=[]#mean count rates for the entire lighcurve\n",
    "    # std_rates_list=[]#standard deviation of count rates for the entire lighcurve\n",
    "    "
   ]
  },
  {
   "cell_type": "code",
   "execution_count": 238,
   "metadata": {},
   "outputs": [],
   "source": [
    "np.savetxt(\"synthetic_rhos_v2.csv\" ,synthetic_rhos, delimiter=',')"
   ]
  },
  {
   "cell_type": "code",
   "execution_count": 255,
   "metadata": {},
   "outputs": [
    {
     "data": {
      "image/png": "[encoded data removed]",
      "text/plain": [
       "<Figure size 432x288 with 1 Axes>"
      ]
     },
     "metadata": {
      "needs_background": "light"
     },
     "output_type": "display_data"
    }
   ],
   "source": [
    "plt.plot(synthetic_rhos[n])\n",
    "n+=1"
   ]
  },
  {
   "cell_type": "code",
   "execution_count": null,
   "metadata": {},
   "outputs": [],
   "source": [
    "for synthro in range(5):\n",
    "    plt.figure(figsize=(20,10))\n",
    "    plt.plot(range(500), synthetic_rhos[synthro])\n",
    "    plt.ylim([750,7500])\n",
    "    #plt.show()\n",
    "   # plt.savefig(\"rho_lightcurves/synthetic/{}.png\".format(synthro))"
   ]
  },
  {
   "cell_type": "code",
   "execution_count": 84,
   "metadata": {},
   "outputs": [
    {
     "data": {
      "text/plain": [
       "array([1046.22516562, 1026.1054509 , 1005.98573617,  985.86602145,\n",
       "        965.74630673,  945.626592  ,  925.50687728,  905.38716255,\n",
       "        885.26744783,  865.14773311,  845.02801838,  824.90830366,\n",
       "        804.78858894,  784.66887421,  764.54915949,  744.42944477,\n",
       "        724.30973004,  704.19001532,  684.0703006 ,  663.95058587,\n",
       "        643.83087115,  623.71115643,  603.5914417 ,  583.47172698,\n",
       "        563.35201226,  543.23229753,  523.11258281,  502.99286809,\n",
       "        482.87315336,  462.75343864,  442.63372392,  422.51400919,\n",
       "        402.39429447,  382.27457975,  362.15486502,  342.0351503 ,\n",
       "        321.91543558,  301.79572085,  281.67600613,  261.5562914 ,\n",
       "        241.43657668,  221.31686196,  201.19714723,  181.07743251,\n",
       "        160.95771779,  140.83800306,  120.71828834,  100.59857362,\n",
       "         80.47885889,   60.35914417,   40.23942945,   20.11971472,\n",
       "          0.        ])"
      ]
     },
     "execution_count": 84,
     "metadata": {},
     "output_type": "execute_result"
    }
   ],
   "source": [
    "#mean_rates_list=[]#mean count rates for the entire lighcurve\n",
    "    # std_rates_list=[]#standard deviation of count rates for the entire lighcurve\n",
    "    "
   ]
  },
  {
   "cell_type": "code",
   "execution_count": 133,
   "metadata": {},
   "outputs": [
    {
     "data": {
      "text/plain": [
       "(1000, 500)"
      ]
     },
     "execution_count": 133,
     "metadata": {},
     "output_type": "execute_result"
    }
   ],
   "source": [
    "np.shape(synthetic_rhos)"
   ]
  },
  {
   "cell_type": "code",
   "execution_count": 134,
   "metadata": {},
   "outputs": [],
   "source": [
    "np.savetxt(\"synthetic_rhos.csv\" ,synthetic_rhos, delimiter=',')"
   ]
  },
  {
   "cell_type": "code",
   "execution_count": null,
   "metadata": {},
   "outputs": [],
   "source": [
    "# sine wave\n",
    "\n",
    "\n",
    "no_sines=20\n",
    "lc_len=500\n",
    "sines=np.zeros((no_sines,lc_len))\n",
    "for sine in range(no_sines):\n",
    "    #wavelength of 30-160\n",
    "    start=np.random.rand()*2*np.pi\n",
    "    interval=np.random.normal(80, 15)\n",
    "    xs=np.linspace(start,(lc_len/interval)*2*np.pi+start, num=500)\n",
    "    ys=np.sin(xs)\n",
    "    sines[sine,:]=ys"
   ]
  },
  {
   "cell_type": "code",
   "execution_count": 226,
   "metadata": {},
   "outputs": [],
   "source": [
    "gamma1=np.random.gamma(4.5, 3, 7000)+32.5\n",
    "gamma2=np.random.gamma(5, 8.5, 7000)+32.5\n",
    "gamma=np.concatenate((gamma1,gamma2))\n",
    "generate_boxs=250\n",
    "synthetic_boxs=np.zeros((generate_boxs, 500))\n",
    "for gen_box in range(generate_boxs):\n",
    "    gen_y=np.random.normal(np.mean(mean_rates_list), np.std(mean_rates_list))\n",
    "    gen_interval=np.random.choice(gamma)\n",
    "    gen_thickness=5*np.random.normal(np.mean(np.hstack(thickness_list)), np.std(np.hstack(thickness_list)))\n",
    "    gen_peak=np.random.choice(mean_peak_difference_list)\n",
    "    revs=int(500//(gen_interval+gen_thickness)+3)\n",
    "    ys=[]\n",
    "    for rev in range(revs):\n",
    "        for i in range(int(gen_interval)):\n",
    "            ys.append(gen_y)\n",
    "        for i in range(int(gen_thickness)):\n",
    "            ys.append(gen_y+gen_peak)\n",
    "    init_phase=np.random.randint(gen_interval+gen_thickness)\n",
    "    synthetic_boxs[gen_box,:]=np.array(ys[init_phase:init_phase+500]+np.random.normal(0,100,500))"
   ]
  },
  {
   "cell_type": "code",
   "execution_count": 232,
   "metadata": {},
   "outputs": [
    {
     "data": {
      "text/plain": [
       "[<matplotlib.lines.Line2D at 0x2b6032768048>]"
      ]
     },
     "execution_count": 232,
     "metadata": {},
     "output_type": "execute_result"
    },
    {
     "data": {
      "image/png": "[encoded data removed]",
      "text/plain": [
       "<Figure size 432x288 with 1 Axes>"
      ]
     },
     "metadata": {
      "needs_background": "light"
     },
     "output_type": "display_data"
    }
   ],
   "source": [
    "n+=1\n",
    "plt.plot(synthetic_boxs[n])"
   ]
  },
  {
   "cell_type": "code",
   "execution_count": 233,
   "metadata": {},
   "outputs": [],
   "source": [
    "np.savetxt(\"synthetic_boxes_thick.csv\" ,synthetic_boxs, delimiter=',')"
   ]
  },
  {
   "cell_type": "code",
   "execution_count": 258,
   "metadata": {},
   "outputs": [],
   "source": [
    "import numpy as np\n",
    "from sklearn.model_selection import train_test_split\n",
    "\n",
    "\n",
    "#synthesise sine waves that span the same range as the synthetic rho\n",
    "\n",
    "#\"normal\" lightcurves\n",
    "rho_file=np.loadtxt(\"synthetic_rhos.csv\", delimiter=',')\n",
    "rho_train, rho_valid, rho_train_ids, rho_valid_ids= train_test_split(rho_file, list(range(len(rho_file))) ,test_size=0.25)\n",
    "list_mins=np.min(rho_train, axis=1)\n",
    "list_maxs=np.max(rho_train, axis=1)\n",
    "\n",
    "small_maxs=list_maxs[np.where(list_maxs<5000)[0]]\n",
    "\n",
    "#\"outlier\" lightcurves\n",
    "no_sines=250\n",
    "lc_len=500\n",
    "sines=np.zeros((no_sines,lc_len))\n",
    "for sine in range(no_sines):\n",
    "    #wavelength of 30-160\n",
    "    start=np.random.rand()*2*np.pi\n",
    "    interval=np.random.normal(200, 15)\n",
    "    xs=np.linspace(start,(lc_len/interval)*2*np.pi+start, num=500)\n",
    "    ys=np.sin(xs)\n",
    "    range_ind=np.random.randint(len(small_maxs))\n",
    "    ys+=1\n",
    "    ys=(ys/2)*(small_maxs[range_ind]-list_mins[range_ind])\n",
    "    if np.min(ys)<0:\n",
    "        ys+=abs(np.min(ys))\n",
    "    ys*=(small_maxs[range_ind]-list_mins[range_ind])/np.max(ys)\n",
    "    ys+=list_mins[range_ind]\n",
    "    gen_err=np.power(np.e,np.log(ys)*0.5+1.0397207708265923)\n",
    "    ys+=np.random.normal(ys, gen_err)\n",
    "    sines[sine,:]=ys\n",
    "np.savetxt(\"synthetic_sines_v2.csv\" ,sines, delimiter=',')"
   ]
  },
  {
   "cell_type": "code",
   "execution_count": 261,
   "metadata": {},
   "outputs": [
    {
     "data": {
      "text/plain": [
       "[<matplotlib.lines.Line2D at 0x2b5a262b1748>]"
      ]
     },
     "execution_count": 261,
     "metadata": {},
     "output_type": "execute_result"
    },
    {
     "data": {
      "image/png": "[encoded data removed]",
      "text/plain": [
       "<Figure size 432x288 with 1 Axes>"
      ]
     },
     "metadata": {
      "needs_background": "light"
     },
     "output_type": "display_data"
    }
   ],
   "source": [
    "plt.plot(sines[50])"
   ]
  },
  {
   "cell_type": "code",
   "execution_count": null,
   "metadata": {},
   "outputs": [],
   "source": []
  }
 ],
 "metadata": {
  "kernelspec": {
   "display_name": "Python 3",
   "language": "python",
   "name": "python3"
  },
  "language_info": {
   "codemirror_mode": {
    "name": "ipython",
    "version": 3
   },
   "file_extension": ".py",
   "mimetype": "text/x-python",
   "name": "python",
   "nbconvert_exporter": "python",
   "pygments_lexer": "ipython3",
   "version": "3.7.0"
  }
 },
 "nbformat": 4,
 "nbformat_minor": 2
}
