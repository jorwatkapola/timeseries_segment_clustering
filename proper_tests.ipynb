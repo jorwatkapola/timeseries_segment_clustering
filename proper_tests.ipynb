{
 "cells": [
  {
   "cell_type": "code",
   "execution_count": 21,
   "metadata": {},
   "outputs": [],
   "source": [
    "%matplotlib inline\n",
    "import numpy as np\n",
    "import sys\n",
    "import matplotlib.pyplot as plt\n",
    "from sklearn.model_selection import train_test_split\n",
    "import importlib\n",
    "import time\n",
    "import datetime\n",
    "\n",
    "sys.stdout.flush()\n",
    "np.random.seed(0)\n",
    "\n",
    "k_clusters = [10, 50, 100, 200]\n",
    "seg_lens = [10, 50, 100, 150, 200]"
   ]
  },
  {
   "cell_type": "code",
   "execution_count": null,
   "metadata": {},
   "outputs": [],
   "source": [
    "def validate_algorithm(ordinary_file, outlier_file):\n",
    "\n",
    "    process_t0 = time.process_time()\n",
    "    real_t0 = time.time()\n",
    "    \n",
    "    ordinary_train, ordinary_valid, ordinary_train_ids, ordinary_valid_ids= train_test_split(ordinary_file, list(range(len(ordinary_file))) ,test_size=0.25, random_state=0)\n",
    "\n",
    "    validation_data = np.vstack((ordinary_valid, outlier_file)) # stack validation data of ordinary and outlier time series\n",
    "    validation_labels = np.hstack((np.zeros(len(ordinary_valid)), np.ones(len(outlier_file)))).T # generate labels for valdiation data\n",
    "\n",
    "\n",
    "    validation_result = []\n",
    "    loop_counter = 0\n",
    "    for k_id, k_cluster in enumerate(k_clusters):\n",
    "        for len_id, seg_len in enumerate(seg_lens): #for every combination of hyperparameters\n",
    "            TSSCOD = sc.TSSCOD(k_clusters = k_cluster, seg_len = seg_len) #initialise outlier detection class\n",
    "\n",
    "            TSSCOD.train(ordinary_train, random_state = 0) # train on the subset with no outliers; segment each series with a slide of 1 and cluster the segments\n",
    "            validation_iteration = TSSCOD.validate(validation_data,\n",
    "                                                   validation_labels) #validation reconstructs the provided series and saves error values together with indices\n",
    "            hyperparameter_ids = np.vstack((np.ones(len(validation_iteration))*k_id, # add indices of hyperparameters to the results array; this part makes it easier to feed the result into the analysis pipeline\n",
    "                                            np.ones(len(validation_iteration))*len_id)).T\n",
    "            validation_iteration = np.hstack((hyperparameter_ids, validation_iteration))\n",
    "            validation_result.append(validation_iteration) # append results for this set of hyperparameters\n",
    "            loop_counter += 1\n",
    "            print(\"Hyperparameter sets completed: {}/{}, \".format(loop_counter, int(len(k_clusters)*len(seg_lens))) + \"elapsed CPU time: {}s\".format(time.process_time()-t0))\n",
    "    validation_result=np.vstack(validation_result)\n",
    "    np.savetxt(\"results_{}.csv\".format(datetime.datetime.now().strftime(\"%Y-%m-%d_%H-%M-%S\")), validation_result, delimiter=\",\") \n",
    "    \n",
    "    print()\n",
    "    print(\"Finished, elapsed time: {}s\".format(time.time() - real_t0)+\", total CPU time: {}s\".format(time.process_time()-t0))\n",
    "    \n",
    "    return"
   ]
  },
  {
   "cell_type": "code",
   "execution_count": 8,
   "metadata": {},
   "outputs": [],
   "source": [
    "#\"ordinary\" lightcurves\n",
    "ordinary_file=np.loadtxt(\"synthetic_rhos_v2.csv\", delimiter=',')\n",
    "#\"outlier\" lightcurves\n",
    "outlier_file=np.loadtxt(\"synthetic_boxes_thick.csv\", delimiter=',')\n"
   ]
  },
  {
   "cell_type": "code",
   "execution_count": 32,
   "metadata": {},
   "outputs": [
    {
     "data": {
      "text/plain": [
       "1560945374.0963323"
      ]
     },
     "execution_count": 32,
     "metadata": {},
     "output_type": "execute_result"
    }
   ],
   "source": [
    "time.time()"
   ]
  },
  {
   "cell_type": "code",
   "execution_count": null,
   "metadata": {},
   "outputs": [],
   "source": []
  }
 ],
 "metadata": {
  "kernelspec": {
   "display_name": "Python 3",
   "language": "python",
   "name": "python3"
  },
  "language_info": {
   "codemirror_mode": {
    "name": "ipython",
    "version": 3
   },
   "file_extension": ".py",
   "mimetype": "text/x-python",
   "name": "python",
   "nbconvert_exporter": "python",
   "pygments_lexer": "ipython3",
   "version": "3.7.0"
  }
 },
 "nbformat": 4,
 "nbformat_minor": 2
}
